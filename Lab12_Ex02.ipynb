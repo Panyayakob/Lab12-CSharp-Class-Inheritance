{
 "cells": [
  {
   "cell_type": "markdown",
   "metadata": {},
   "source": [
    "# Lab 12 Class Inheritance"
   ]
  },
  {
   "cell_type": "markdown",
   "metadata": {},
   "source": [
    "## Exercise 2 การใช้งาน method และ field ของ base และ  derived class\n",
    "\n"
   ]
  },
  {
   "cell_type": "markdown",
   "metadata": {},
   "source": [
    "1. สร้าง console application project\n",
    "\n",
    "> ```cmd\n",
    "> dotnet new console --name Lab12_Ex02\n",
    "> ```"
   ]
  },
  {
   "cell_type": "markdown",
   "metadata": {},
   "source": [
    "2.เปลี่ยน code ให้เป็นดังต่อไปนี้\n",
    "\n",
    "```csharp\n",
    "var dc = new DerivedClass();\n",
    "dc.Method1(dc.Field1);  // call with method and field of base class\n",
    "dc.Method2(dc.Field1);  // call with method of derived class and field of base class\n",
    "dc.Method1(dc.Field2);  // call with method of base class and field of derived class\n",
    "dc.Method2(dc.Field2);  // call with method and field of derived class\n",
    "\n",
    "class BaseClass\n",
    "{\n",
    "    public string Field1 = \"Field 1 in BaseClass\";\n",
    "    public void Method1(string value)\n",
    "    {\n",
    "        System.Console.WriteLine($\"Method1() in BaseClass, string input = {value} \");\n",
    "    }\n",
    "}\n",
    "class DerivedClass: BaseClass\n",
    "{\n",
    "    public string Field2 = \"Field 2 in DerivedClass\";\n",
    "    public void Method2(string value)\n",
    "    {\n",
    "        System.Console.WriteLine($\"Method2() in DerivedClass, string input = {value} \");\n",
    "    }\n",
    "\n",
    "}\n",
    "```"
   ]
  },
  {
   "cell_type": "markdown",
   "metadata": {},
   "source": [
    "3.Build project โดยการใช้คำสั่ง\n",
    "\n",
    "```cmd\n",
    "dotnet build  Lab12_Ex02\n",
    "```\n",
    "\n",
    "ถ้ามีที่ผิดพลาดในโปรแกรม ให้แก้ไขให้ถูกต้อง\n",
    "\n"
   ]
  },
  {
   "cell_type": "markdown",
   "metadata": {},
   "source": [
    "4.บันทึกผลที่ได้จากการรันคำสั่งในข้อ 3\n",
    "\n"
   ]
  },
  {
   "cell_type": "markdown",
   "metadata": {},
   "source": [
    "Build succeeded in 0.9s"
   ]
  },
  {
   "cell_type": "markdown",
   "metadata": {},
   "source": [
    "5.Run project โดยการใช้คำสั่ง\n",
    "\n",
    "```cmd\n",
    "dotnet run --project Lab12_Ex02\n",
    "```\n",
    "\n"
   ]
  },
  {
   "cell_type": "markdown",
   "metadata": {},
   "source": [
    "6.บันทึกผลที่ได้จากการรันคำสั่งในข้อ 5\n",
    "\n"
   ]
  },
  {
   "cell_type": "markdown",
   "metadata": {},
   "source": [
    "Method1() in BaseClass, string input = Field 1 in BaseClass \n",
    "\n",
    "Method2() in DerivedClass, string input = Field 1 in BaseClass \n",
    "\n",
    "Method1() in BaseClass, string input = Field 2 in DerivedClass\n",
    "\n",
    "Method2() in DerivedClass, string input = Field 2 in DerivedClass"
   ]
  },
  {
   "cell_type": "markdown",
   "metadata": {},
   "source": [
    "7.อธิบายสิ่งที่พบในการทดลอง"
   ]
  },
  {
   "cell_type": "markdown",
   "metadata": {},
   "source": [
    "สรุปสิ่งที่พบในการทดลอง:\n",
    "\n",
    "การสืบทอด (Inheritance):\n",
    "\n",
    "DerivedClass สืบทอดจาก BaseClass ซึ่งทำให้ DerivedClass สามารถใช้ฟิลด์ (Field1) และเมธอด (Method1) ที่มีใน BaseClass ได้\n",
    "\n",
    "การใช้ฟิลด์และเมธอดจากทั้งสองคลาส:\n",
    "\n",
    "Field1 มาจาก BaseClass และ Field2 มาจาก DerivedClass\n",
    "เมธอด Method1 มาจาก BaseClass และ Method2 มาจาก DerivedClass\n",
    "การทดสอบแสดงให้เห็นว่า เราสามารถใช้ฟิลด์และเมธอดจากทั้งคลาสแม่และคลาสลูกในการเรียกใช้งานได้\n",
    "\n",
    "ผลลัพธ์จากการทดสอบ:\n",
    "\n",
    "เมื่อเรียกเมธอดจาก BaseClass และ DerivedClass ด้วยฟิลด์จาก BaseClass หรือ DerivedClass จะได้ผลลัพธ์ที่แตกต่างกันตามการใช้งานฟิลด์และเมธอดที่มาจากคลาสใด\n",
    "\n",
    "ข้อสังเกต:\n",
    "\n",
    "ฟิลด์และเมธอดที่สืบทอดมาจากคลาสแม่ (BaseClass) สามารถใช้งานได้ในคลาสลูก (DerivedClass)\n",
    "การทดสอบแสดงถึงการทำงานของการสืบทอดและการใช้งานเมธอดจากทั้งสองคลาส"
   ]
  },
  {
   "cell_type": "markdown",
   "metadata": {},
   "source": [
    "## คำถาม"
   ]
  },
  {
   "cell_type": "markdown",
   "metadata": {},
   "source": [
    "1. ให้เขียน mermaid diagram ของ code ในข้อ 2"
   ]
  },
  {
   "cell_type": "code",
   "execution_count": null,
   "metadata": {},
   "outputs": [
    {
     "ename": "Error",
     "evalue": "(1,13): error CS1002: ; expected\r\n(3,9): error CS1519: Invalid token '+' in class, record, struct, or interface member declaration\r\n(3,23): error CS1003: Syntax error, ',' expected\r\n(4,10): error CS1002: ; expected\r\n(4,36): error CS1002: ; expected\r\n(8,9): error CS1519: Invalid token '+' in class, record, struct, or interface member declaration\r\n(8,23): error CS1003: Syntax error, ',' expected\r\n(9,10): error CS1002: ; expected\r\n(9,36): error CS1002: ; expected\r\n(12,21): error CS1525: Invalid expression term '>'\r\n(12,33): error CS1002: ; expected\r\n(12,33): error CS7017: Member definition, statement, or end-of-file expected",
     "output_type": "error",
     "traceback": [
      "(1,13): error CS1002: ; expected\r\n",
      "(3,9): error CS1519: Invalid token '+' in class, record, struct, or interface member declaration\r\n",
      "(3,23): error CS1003: Syntax error, ',' expected\r\n",
      "(4,10): error CS1002: ; expected\r\n",
      "(4,36): error CS1002: ; expected\r\n",
      "(8,9): error CS1519: Invalid token '+' in class, record, struct, or interface member declaration\r\n",
      "(8,23): error CS1003: Syntax error, ',' expected\r\n",
      "(9,10): error CS1002: ; expected\r\n",
      "(9,36): error CS1002: ; expected\r\n",
      "(12,21): error CS1525: Invalid expression term '>'\r\n",
      "(12,33): error CS1002: ; expected\r\n",
      "(12,33): error CS7017: Member definition, statement, or end-of-file expected"
     ]
    }
   ],
   "source": [
    "classDiagram\n",
    "    class BaseClass {\n",
    "        +string Field1\n",
    "        +void Method1(string value)\n",
    "    }\n",
    "    \n",
    "    class DerivedClass {\n",
    "        +string Field2\n",
    "        +void Method2(string value)\n",
    "    }\n",
    "\n",
    "    DerivedClass --|> BaseClass : Inherits"
   ]
  }
 ],
 "metadata": {
  "kernelspec": {
   "display_name": ".NET (C#)",
   "language": "C#",
   "name": ".net-csharp"
  },
  "polyglot_notebook": {
   "kernelInfo": {
    "defaultKernelName": "csharp",
    "items": [
     {
      "aliases": [],
      "languageName": "csharp",
      "name": "csharp"
     }
    ]
   }
  }
 },
 "nbformat": 4,
 "nbformat_minor": 2
}
